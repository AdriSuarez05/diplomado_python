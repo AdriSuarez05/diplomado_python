{
 "cells": [
  {
   "cell_type": "code",
   "execution_count": 9,
   "id": "a7aed22b",
   "metadata": {},
   "outputs": [
    {
     "name": "stdout",
     "output_type": "stream",
     "text": [
      "Digite un nombre Ana\n"
     ]
    }
   ],
   "source": [
    "nom1 = input(\"Digite un nombre \")"
   ]
  },
  {
   "cell_type": "code",
   "execution_count": 10,
   "id": "bf1414f3",
   "metadata": {},
   "outputs": [
    {
     "name": "stdout",
     "output_type": "stream",
     "text": [
      "Digite otro nombre Ana\n"
     ]
    }
   ],
   "source": [
    "nom2 = input(\"Digite otro nombre \")"
   ]
  },
  {
   "cell_type": "code",
   "execution_count": 13,
   "id": "5b31901a",
   "metadata": {},
   "outputs": [],
   "source": [
    "Solucion = nom1 == nom2 "
   ]
  },
  {
   "cell_type": "code",
   "execution_count": 14,
   "id": "c25ad16f",
   "metadata": {},
   "outputs": [
    {
     "name": "stdout",
     "output_type": "stream",
     "text": [
      "True\n"
     ]
    }
   ],
   "source": [
    "print(Solucion)"
   ]
  },
  {
   "cell_type": "code",
   "execution_count": null,
   "id": "2e212a74",
   "metadata": {},
   "outputs": [],
   "source": []
  }
 ],
 "metadata": {
  "kernelspec": {
   "display_name": "Python 3 (ipykernel)",
   "language": "python",
   "name": "python3"
  },
  "language_info": {
   "codemirror_mode": {
    "name": "ipython",
    "version": 3
   },
   "file_extension": ".py",
   "mimetype": "text/x-python",
   "name": "python",
   "nbconvert_exporter": "python",
   "pygments_lexer": "ipython3",
   "version": "3.9.12"
  }
 },
 "nbformat": 4,
 "nbformat_minor": 5
}
