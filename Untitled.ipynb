{
 "cells": [
  {
   "cell_type": "code",
   "execution_count": 16,
   "id": "6714a367",
   "metadata": {},
   "outputs": [
    {
     "name": "stdout",
     "output_type": "stream",
     "text": [
      "Digite num uno 3\n",
      "Digite num dos 4\n",
      "Digite num tres 5\n"
     ]
    }
   ],
   "source": [
    "a = int(input(\"Digite num uno \")) \n",
    "b = int(input(\"Digite num dos \"))\n",
    "c = int(input(\"Digite num tres \"))"
   ]
  },
  {
   "cell_type": "code",
   "execution_count": 19,
   "id": "d330ec61",
   "metadata": {},
   "outputs": [
    {
     "ename": "SyntaxError",
     "evalue": "invalid syntax (1408289665.py, line 4)",
     "output_type": "error",
     "traceback": [
      "\u001b[1;36m  Input \u001b[1;32mIn [19]\u001b[1;36m\u001b[0m\n\u001b[1;33m    else b > c:\u001b[0m\n\u001b[1;37m    ^\u001b[0m\n\u001b[1;31mSyntaxError\u001b[0m\u001b[1;31m:\u001b[0m invalid syntax\n"
     ]
    }
   ],
   "source": [
    "if a > b and a > c:\n",
    "    print(\"A es Mayor\")\n",
    "    \n",
    "    else b > c:\n",
    "        print(\"B es mayor\")\n",
    "    \n",
    "    "
   ]
  },
  {
   "cell_type": "code",
   "execution_count": null,
   "id": "ef95a201",
   "metadata": {},
   "outputs": [],
   "source": []
  }
 ],
 "metadata": {
  "kernelspec": {
   "display_name": "Python 3 (ipykernel)",
   "language": "python",
   "name": "python3"
  },
  "language_info": {
   "codemirror_mode": {
    "name": "ipython",
    "version": 3
   },
   "file_extension": ".py",
   "mimetype": "text/x-python",
   "name": "python",
   "nbconvert_exporter": "python",
   "pygments_lexer": "ipython3",
   "version": "3.9.12"
  }
 },
 "nbformat": 4,
 "nbformat_minor": 5
}
